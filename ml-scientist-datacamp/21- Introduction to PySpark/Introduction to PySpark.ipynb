{
 "cells": [
  {
   "cell_type": "markdown",
   "metadata": {},
   "source": [
    "# 1- Getting to know PySpark\n"
   ]
  },
  {
   "cell_type": "code",
   "execution_count": 3,
   "metadata": {},
   "outputs": [
    {
     "name": "stdout",
     "output_type": "stream",
     "text": [
      "<class 'pyspark.rdd.RDD'>\n",
      "[1, 2, 4]\n"
     ]
    }
   ],
   "source": [
    "# sc => SparkContext\n",
    "rdd = sc.parallelize([1,2,4])\n",
    "print(type(rdd))\n",
    "print(rdd.take(5))"
   ]
  },
  {
   "cell_type": "markdown",
   "metadata": {},
   "source": [
    "* Spark is a platform for cluster computing. Spark lets you spread data and computations over clusters with multiple nodes (think of each node as a separate computer). Splitting up your data makes it easier to work with very large datasets because each node only works with a small amount of data.\n",
    "\n",
    "* As each node works on its own subset of the total data, it also carries out a part of the total calculations required, so that both data processing and computation are performed in parallel over the nodes in the cluster. It is a fact that parallel computation can make certain types of programming tasks much faster.\n",
    "\n",
    "\n"
   ]
  },
  {
   "cell_type": "code",
   "execution_count": null,
   "metadata": {},
   "outputs": [],
   "source": [
    "# # Verify SparkContext\n",
    "# print(sc)\n",
    "\n",
    "# # Print Spark version\n",
    "# print(sc.version)\n",
    "# Welcome to\n",
    "#       ____              __\n",
    "#      / __/__  ___ _____/ /__\n",
    "#     _\\ \\/ _ \\/ _ `/ __/  '_/\n",
    "#    /__ / .__/\\_,_/_/ /_/\\_\\   version 2.3.1\n",
    "#       /_/\n",
    "\n",
    "# Using Python version 3.5.2 (default, Nov 23 2017 16:37:01)\n",
    "# SparkSession available as 'spark'.\n",
    "\n",
    "# <script.py> output:\n",
    "#     <SparkContext master=local[*] appName=pyspark-shell>\n",
    "#     2.3.1\n"
   ]
  },
  {
   "cell_type": "markdown",
   "metadata": {},
   "source": [
    "* Spark's core data structure is the Resilient Distributed Dataset (RDD)\n"
   ]
  },
  {
   "cell_type": "code",
   "execution_count": null,
   "metadata": {},
   "outputs": [],
   "source": [
    "# # Import SparkSession from pyspark.sql\n",
    "# from pyspark.sql import SparkSession\n",
    "\n",
    "# # Create my_spark\n",
    "# my_spark = SparkSession.builder.getOrCreate()\n",
    "\n",
    "# # Print my_spark\n",
    "# print(my_spark)\n",
    "\n",
    "# <script.py> output:\n",
    "#     <pyspark.sql.session.SparkSession object at 0x7f80a94a4eb8>\n"
   ]
  },
  {
   "cell_type": "code",
   "execution_count": null,
   "metadata": {},
   "outputs": [],
   "source": [
    "# # Print the tables in the catalog\n",
    "# print(spark.catalog.listTables())\n",
    "\n",
    "# <script.py> output:\n",
    "#     [Table(name='flights', database=None, description=None, tableType='TEMPORARY', isTemporary=True)]\n"
   ]
  },
  {
   "cell_type": "code",
   "execution_count": null,
   "metadata": {},
   "outputs": [],
   "source": [
    "# # Don't change this query\n",
    "# query = \"FROM flights SELECT * LIMIT 10\"\n",
    "\n",
    "# # Get the first 10 rows of flights\n",
    "# flights10 = spark.sql(query)\n",
    "\n",
    "# # Show the results\n",
    "# flights10.show()\n",
    "\n",
    "# <script.py> output:\n",
    "#     +----+-----+---+--------+---------+--------+---------+-------+-------+------+------+----+--------+--------+----+------+\n",
    "#     |year|month|day|dep_time|dep_delay|arr_time|arr_delay|carrier|tailnum|flight|origin|dest|air_time|distance|hour|minute|\n",
    "#     +----+-----+---+--------+---------+--------+---------+-------+-------+------+------+----+--------+--------+----+------+\n",
    "#     |2014|   12|  8|     658|       -7|     935|       -5|     VX| N846VA|  1780|   SEA| LAX|     132|     954|   6|    58|\n",
    "#     |2014|    1| 22|    1040|        5|    1505|        5|     AS| N559AS|   851|   SEA| HNL|     360|    2677|  10|    40|\n",
    "#     |2014|    3|  9|    1443|       -2|    1652|        2|     VX| N847VA|   755|   SEA| SFO|     111|     679|  14|    43|\n",
    "#     |2014|    4|  9|    1705|       45|    1839|       34|     WN| N360SW|   344|   PDX| SJC|      83|     569|  17|     5|\n",
    "#     |2014|    3|  9|     754|       -1|    1015|        1|     AS| N612AS|   522|   SEA| BUR|     127|     937|   7|    54|\n",
    "#     |2014|    1| 15|    1037|        7|    1352|        2|     WN| N646SW|    48|   PDX| DEN|     121|     991|  10|    37|\n",
    "#     |2014|    7|  2|     847|       42|    1041|       51|     WN| N422WN|  1520|   PDX| OAK|      90|     543|   8|    47|\n",
    "#     |2014|    5| 12|    1655|       -5|    1842|      -18|     VX| N361VA|   755|   SEA| SFO|      98|     679|  16|    55|\n",
    "#     |2014|    4| 19|    1236|       -4|    1508|       -7|     AS| N309AS|   490|   SEA| SAN|     135|    1050|  12|    36|\n",
    "#     |2014|   11| 19|    1812|       -3|    2352|       -4|     AS| N564AS|    26|   SEA| ORD|     198|    1721|  18|    12|\n",
    "#     +----+-----+---+--------+---------+--------+---------+-------+-------+------+------+----+--------+--------+----+------+\n"
   ]
  },
  {
   "cell_type": "code",
   "execution_count": null,
   "metadata": {},
   "outputs": [],
   "source": [
    "# # Don't change this query\n",
    "# query = \"SELECT origin, dest, COUNT(*) as N FROM flights GROUP BY origin, dest\"\n",
    "\n",
    "# # Run the query\n",
    "# flight_counts = spark.sql(query)\n",
    "\n",
    "# # Convert the results to a pandas DataFrame\n",
    "# pd_counts = flight_counts.toPandas()\n",
    "\n",
    "# # Print the head of pd_counts\n",
    "# print(pd_counts.head())\n",
    "\n",
    "# <script.py> output:\n",
    "#       origin dest    N\n",
    "#     0    SEA  RNO    8\n",
    "#     1    SEA  DTW   98\n",
    "#     2    SEA  CLE    2\n",
    "#     3    SEA  LAX  450\n",
    "#     4    PDX  SEA  144\n"
   ]
  },
  {
   "cell_type": "code",
   "execution_count": null,
   "metadata": {},
   "outputs": [],
   "source": [
    "# # Create pd_temp\n",
    "# pd_temp = pd.DataFrame(np.random.random(10))\n",
    "\n",
    "# # Create spark_temp from pd_temp\n",
    "# spark_temp = spark.createDataFrame(pd_temp)\n",
    "\n",
    "# # Examine the tables in the catalog\n",
    "# print(spark.catalog.listTables())\n",
    "\n",
    "# # Add spark_temp to the catalog\n",
    "# spark_temp.createOrReplaceTempView(\"temp\")\n",
    "\n",
    "# # Examine the tables in the catalog again\n",
    "# print(spark.catalog.listTables())\n",
    "\n",
    "# <script.py> output:\n",
    "#     [Table(name='flights', database=None, description=None, tableType='TEMPORARY', isTemporary=True)]\n",
    "#     [Table(name='flights', database=None, description=None, tableType='TEMPORARY', isTemporary=True), Table(name='temp', database=None, description=None, tableType='TEMPORARY', isTemporary=True)]\n"
   ]
  },
  {
   "cell_type": "code",
   "execution_count": null,
   "metadata": {},
   "outputs": [],
   "source": [
    "# # Don't change this file path\n",
    "# file_path = \"/usr/local/share/datasets/airports.csv\"\n",
    "\n",
    "# # Read in the airports data\n",
    "# airports = spark.read.csv(file_path, header=True)\n",
    "\n",
    "# # Show the data\n",
    "# airports.show()\n",
    "\n",
    "# <script.py> output:\n",
    "#     +---+--------------------+----------------+-----------------+----+---+---+\n",
    "#     |faa|                name|             lat|              lon| alt| tz|dst|\n",
    "#     +---+--------------------+----------------+-----------------+----+---+---+\n",
    "#     |04G|   Lansdowne Airport|      41.1304722|      -80.6195833|1044| -5|  A|\n",
    "#     |06A|Moton Field Munic...|      32.4605722|      -85.6800278| 264| -5|  A|\n",
    "#     |06C| Schaumburg Regional|      41.9893408|      -88.1012428| 801| -6|  A|\n",
    "#     |06N|     Randall Airport|       41.431912|      -74.3915611| 523| -5|  A|\n",
    "#     |09J|Jekyll Island Air...|      31.0744722|      -81.4277778|  11| -4|  A|\n",
    "#     |0A9|Elizabethton Muni...|      36.3712222|      -82.1734167|1593| -4|  A|\n",
    "#     |0G6|Williams County A...|      41.4673056|      -84.5067778| 730| -5|  A|\n",
    "#     |0G7|Finger Lakes Regi...|      42.8835647|      -76.7812318| 492| -5|  A|\n",
    "#     |0P2|Shoestring Aviati...|      39.7948244|      -76.6471914|1000| -5|  U|\n",
    "#     |0S9|Jefferson County ...|      48.0538086|     -122.8106436| 108| -8|  A|\n",
    "#     |0W3|Harford County Ai...|      39.5668378|      -76.2024028| 409| -5|  A|\n",
    "#     |10C|  Galt Field Airport|      42.4028889|      -88.3751111| 875| -6|  U|\n",
    "#     |17G|Port Bucyrus-Craw...|      40.7815556|      -82.9748056|1003| -5|  A|\n",
    "#     |19A|Jackson County Ai...|      34.1758638|      -83.5615972| 951| -4|  U|\n",
    "#     |1A3|Martin Campbell F...|      35.0158056|      -84.3468333|1789| -4|  A|\n",
    "#     |1B9| Mansfield Municipal|      42.0001331|      -71.1967714| 122| -5|  A|\n",
    "#     |1C9|Frazier Lake Airpark|54.0133333333333|-124.768333333333| 152| -8|  A|\n",
    "#     |1CS|Clow Internationa...|      41.6959744|      -88.1292306| 670| -6|  U|\n",
    "#     |1G3|  Kent State Airport|      41.1513889|      -81.4151111|1134| -4|  A|\n",
    "#     |1OH|     Fortman Airport|      40.5553253|      -84.3866186| 885| -5|  U|\n",
    "#     +---+--------------------+----------------+-----------------+----+---+---+\n",
    "#     only showing top 20 rows\n"
   ]
  },
  {
   "cell_type": "markdown",
   "metadata": {},
   "source": [
    "# 2- Manipulating data\n"
   ]
  },
  {
   "cell_type": "code",
   "execution_count": null,
   "metadata": {},
   "outputs": [],
   "source": [
    "# # Create the DataFrame flights\n",
    "# flights = spark.table(\"flights\")\n",
    "\n",
    "# # Show the head\n",
    "# flights.show()\n",
    "\n",
    "# # Add duration_hrs\n",
    "# flights = flights.withColumn(\"duration_hrs\", flights.air_time/60)\n",
    "\n",
    "# <script.py> output:\n",
    "#     +----+-----+---+--------+---------+--------+---------+-------+-------+------+------+----+--------+--------+----+------+\n",
    "#     |year|month|day|dep_time|dep_delay|arr_time|arr_delay|carrier|tailnum|flight|origin|dest|air_time|distance|hour|minute|\n",
    "#     +----+-----+---+--------+---------+--------+---------+-------+-------+------+------+----+--------+--------+----+------+\n",
    "#     |2014|   12|  8|     658|       -7|     935|       -5|     VX| N846VA|  1780|   SEA| LAX|     132|     954|   6|    58|\n",
    "#     |2014|    1| 22|    1040|        5|    1505|        5|     AS| N559AS|   851|   SEA| HNL|     360|    2677|  10|    40|\n",
    "#     |2014|    3|  9|    1443|       -2|    1652|        2|     VX| N847VA|   755|   SEA| SFO|     111|     679|  14|    43|\n",
    "#     |2014|    4|  9|    1705|       45|    1839|       34|     WN| N360SW|   344|   PDX| SJC|      83|     569|  17|     5|\n",
    "#     |2014|    3|  9|     754|       -1|    1015|        1|     AS| N612AS|   522|   SEA| BUR|     127|     937|   7|    54|\n",
    "#     |2014|    1| 15|    1037|        7|    1352|        2|     WN| N646SW|    48|   PDX| DEN|     121|     991|  10|    37|\n",
    "#     |2014|    7|  2|     847|       42|    1041|       51|     WN| N422WN|  1520|   PDX| OAK|      90|     543|   8|    47|\n",
    "#     |2014|    5| 12|    1655|       -5|    1842|      -18|     VX| N361VA|   755|   SEA| SFO|      98|     679|  16|    55|\n",
    "#     |2014|    4| 19|    1236|       -4|    1508|       -7|     AS| N309AS|   490|   SEA| SAN|     135|    1050|  12|    36|\n",
    "#     |2014|   11| 19|    1812|       -3|    2352|       -4|     AS| N564AS|    26|   SEA| ORD|     198|    1721|  18|    12|\n",
    "#     |2014|   11|  8|    1653|       -2|    1924|       -1|     AS| N323AS|   448|   SEA| LAX|     130|     954|  16|    53|\n",
    "#     |2014|    8|  3|    1120|        0|    1415|        2|     AS| N305AS|   656|   SEA| PHX|     154|    1107|  11|    20|\n",
    "#     |2014|   10| 30|     811|       21|    1038|       29|     AS| N433AS|   608|   SEA| LAS|     127|     867|   8|    11|\n",
    "#     |2014|   11| 12|    2346|       -4|     217|      -28|     AS| N765AS|   121|   SEA| ANC|     183|    1448|  23|    46|\n",
    "#     |2014|   10| 31|    1314|       89|    1544|      111|     AS| N713AS|   306|   SEA| SFO|     129|     679|  13|    14|\n",
    "#     |2014|    1| 29|    2009|        3|    2159|        9|     UA| N27205|  1458|   PDX| SFO|      90|     550|  20|     9|\n",
    "#     |2014|   12| 17|    2015|       50|    2150|       41|     AS| N626AS|   368|   SEA| SMF|      76|     605|  20|    15|\n",
    "#     |2014|    8| 11|    1017|       -3|    1613|       -7|     WN| N8634A|   827|   SEA| MDW|     216|    1733|  10|    17|\n",
    "#     |2014|    1| 13|    2156|       -9|     607|      -15|     AS| N597AS|    24|   SEA| BOS|     290|    2496|  21|    56|\n",
    "#     |2014|    6|  5|    1733|      -12|    1945|      -10|     OO| N215AG|  3488|   PDX| BUR|     111|     817|  17|    33|\n",
    "#     +----+-----+---+--------+---------+--------+---------+-------+-------+------+------+----+--------+--------+----+------+\n",
    "#     only showing top 20 rows\n"
   ]
  },
  {
   "cell_type": "markdown",
   "metadata": {},
   "source": [
    "* A `SQL` query returns a table derived from one or more tables contained in a database.\n",
    "\n",
    "* Every SQL query is made up of commands that tell the database what you want to do with the data. The two commands that every query has to contain are `SELECT` and `FROM`.\n",
    "\n",
    "* The `SELECT` command is followed by the `columns` you want in the resulting table.\n",
    "\n",
    "* The `FROM` command is followed by the `name of the table` that contains those columns.\n",
    "\n",
    "* ### SELECT * FROM my_table;\n",
    "\n",
    "* The `*` selects all columns, so this returns the entire table named my_table.\n",
    "\n",
    "* ### SELECT * FROM students\n",
    "* ### WHERE grade = 'A';\n",
    "\n",
    "\n",
    "* `WHERE` This command filters the rows of the table based on some logical condition you specify\n"
   ]
  },
  {
   "cell_type": "markdown",
   "metadata": {},
   "source": [
    "* ### SELECT COUNT(*) FROM flights\n",
    "* ### GROUP BY origin;\n",
    "\n",
    "\n",
    "* `GROUP BY` command. This command `breaks your data into groups and applies a function` from your SELECT statement to each group.\n",
    "\n",
    "\n",
    "* ### SELECT origin, dest, COUNT(*) FROM flights\n",
    "* ### GROUP BY origin, dest;\n",
    "\n",
    "\n",
    "* ### It's possible to `GROUP BY more than one column`.\n",
    "\n",
    "\n"
   ]
  },
  {
   "cell_type": "markdown",
   "metadata": {},
   "source": [
    "* The difference between `.select() and .withColumn()` methods is that `.select() returns only the columns you specify`\n",
    "\n",
    "* while `.withColumn() returns all the columns of the DataFrame in addition to the one you defined.`\n"
   ]
  },
  {
   "cell_type": "code",
   "execution_count": null,
   "metadata": {},
   "outputs": [],
   "source": [
    "# # Filter flights by passing a string\n",
    "# long_flights1 = flights.filter(\"distance > 1000\")\n",
    "\n",
    "# # Filter flights by passing a column of boolean values\n",
    "# long_flights2 = flights.filter(flights.distance > 1000)\n",
    "\n",
    "# # Print the data to check they're equal\n",
    "# long_flights1.show()\n",
    "# long_flights2.show()\n",
    "\n",
    "\n",
    "# output:\n",
    "#     +----+-----+---+--------+---------+--------+---------+-------+-------+------+------+----+--------+--------+----+------+\n",
    "#     |year|month|day|dep_time|dep_delay|arr_time|arr_delay|carrier|tailnum|flight|origin|dest|air_time|distance|hour|minute|\n",
    "#     +----+-----+---+--------+---------+--------+---------+-------+-------+------+------+----+--------+--------+----+------+\n",
    "#     |2014|    1| 22|    1040|        5|    1505|        5|     AS| N559AS|   851|   SEA| HNL|     360|    2677|  10|    40|\n",
    "#     |2014|    4| 19|    1236|       -4|    1508|       -7|     AS| N309AS|   490|   SEA| SAN|     135|    1050|  12|    36|\n",
    "#     |2014|   11| 19|    1812|       -3|    2352|       -4|     AS| N564AS|    26|   SEA| ORD|     198|    1721|  18|    12|\n",
    "#     |2014|    8|  3|    1120|        0|    1415|        2|     AS| N305AS|   656|   SEA| PHX|     154|    1107|  11|    20|\n",
    "#     |2014|   11| 12|    2346|       -4|     217|      -28|     AS| N765AS|   121|   SEA| ANC|     183|    1448|  23|    46|\n",
    "#     |2014|    8| 11|    1017|       -3|    1613|       -7|     WN| N8634A|   827|   SEA| MDW|     216|    1733|  10|    17|\n",
    "#     |2014|    1| 13|    2156|       -9|     607|      -15|     AS| N597AS|    24|   SEA| BOS|     290|    2496|  21|    56|\n",
    "#     |2014|    9| 26|     610|       -5|    1523|       65|     US| N127UW|   616|   SEA| PHL|     293|    2378|   6|    10|\n",
    "#     |2014|   12|  4|     954|       -6|    1348|      -17|     HA| N395HA|    29|   SEA| OGG|     333|    2640|   9|    54|\n",
    "#     |2014|    6|  4|    1115|        0|    1346|       -3|     AS| N461AS|   488|   SEA| SAN|     133|    1050|  11|    15|\n",
    "#     |2014|    6| 26|    2054|       -1|    2318|       -6|     B6| N590JB|   907|   SEA| ANC|     179|    1448|  20|    54|\n",
    "#     |2014|    6|  7|    1823|       -7|    2112|      -28|     AS| N512AS|   815|   SEA| LIH|     335|    2701|  18|    23|\n",
    "#     |2014|    4| 30|     801|        1|    1757|       90|     AS| N407AS|    18|   SEA| MCO|     342|    2554|   8|     1|\n",
    "#     |2014|   11| 29|     905|      155|    1655|      170|     DL| N824DN|  1598|   SEA| ATL|     229|    2182|   9|     5|\n",
    "#     |2014|    6|  2|    2222|        7|      55|       15|     AS| N402AS|    99|   SEA| ANC|     190|    1448|  22|    22|\n",
    "#     |2014|   11| 15|    1034|       -6|    1414|      -26|     AS| N589AS|   794|   SEA| ABQ|     139|    1180|  10|    34|\n",
    "#     |2014|   10| 20|    1328|       -1|    1949|        4|     UA| N68805|  1212|   SEA| IAH|     228|    1874|  13|    28|\n",
    "#     |2014|   12| 16|    1500|        0|    1906|       19|     US| N662AW|   500|   SEA| PHX|     151|    1107|  15|     0|\n",
    "#     |2014|   11| 19|    1319|       -6|    1821|      -14|     DL| N309US|  2164|   PDX| MSP|     169|    1426|  13|    19|\n",
    "#     |2014|    5| 21|     515|        0|     757|        0|     US| N172US|   593|   SEA| PHX|     143|    1107|   5|    15|\n",
    "#     +----+-----+---+--------+---------+--------+---------+-------+-------+------+------+----+--------+--------+----+------+\n",
    "#     only showing top 20 rows\n",
    "    \n",
    "#     +----+-----+---+--------+---------+--------+---------+-------+-------+------+------+----+--------+--------+----+------+\n",
    "#     |year|month|day|dep_time|dep_delay|arr_time|arr_delay|carrier|tailnum|flight|origin|dest|air_time|distance|hour|minute|\n",
    "#     +----+-----+---+--------+---------+--------+---------+-------+-------+------+------+----+--------+--------+----+------+\n",
    "#     |2014|    1| 22|    1040|        5|    1505|        5|     AS| N559AS|   851|   SEA| HNL|     360|    2677|  10|    40|\n",
    "#     |2014|    4| 19|    1236|       -4|    1508|       -7|     AS| N309AS|   490|   SEA| SAN|     135|    1050|  12|    36|\n",
    "#     |2014|   11| 19|    1812|       -3|    2352|       -4|     AS| N564AS|    26|   SEA| ORD|     198|    1721|  18|    12|\n",
    "#     |2014|    8|  3|    1120|        0|    1415|        2|     AS| N305AS|   656|   SEA| PHX|     154|    1107|  11|    20|\n",
    "#     |2014|   11| 12|    2346|       -4|     217|      -28|     AS| N765AS|   121|   SEA| ANC|     183|    1448|  23|    46|\n",
    "#     |2014|    8| 11|    1017|       -3|    1613|       -7|     WN| N8634A|   827|   SEA| MDW|     216|    1733|  10|    17|\n",
    "#     |2014|    1| 13|    2156|       -9|     607|      -15|     AS| N597AS|    24|   SEA| BOS|     290|    2496|  21|    56|\n",
    "#     |2014|    9| 26|     610|       -5|    1523|       65|     US| N127UW|   616|   SEA| PHL|     293|    2378|   6|    10|\n",
    "#     |2014|   12|  4|     954|       -6|    1348|      -17|     HA| N395HA|    29|   SEA| OGG|     333|    2640|   9|    54|\n",
    "#     |2014|    6|  4|    1115|        0|    1346|       -3|     AS| N461AS|   488|   SEA| SAN|     133|    1050|  11|    15|\n",
    "#     |2014|    6| 26|    2054|       -1|    2318|       -6|     B6| N590JB|   907|   SEA| ANC|     179|    1448|  20|    54|\n",
    "#     |2014|    6|  7|    1823|       -7|    2112|      -28|     AS| N512AS|   815|   SEA| LIH|     335|    2701|  18|    23|\n",
    "#     |2014|    4| 30|     801|        1|    1757|       90|     AS| N407AS|    18|   SEA| MCO|     342|    2554|   8|     1|\n",
    "#     |2014|   11| 29|     905|      155|    1655|      170|     DL| N824DN|  1598|   SEA| ATL|     229|    2182|   9|     5|\n",
    "#     |2014|    6|  2|    2222|        7|      55|       15|     AS| N402AS|    99|   SEA| ANC|     190|    1448|  22|    22|\n",
    "#     |2014|   11| 15|    1034|       -6|    1414|      -26|     AS| N589AS|   794|   SEA| ABQ|     139|    1180|  10|    34|\n",
    "#     |2014|   10| 20|    1328|       -1|    1949|        4|     UA| N68805|  1212|   SEA| IAH|     228|    1874|  13|    28|\n",
    "#     |2014|   12| 16|    1500|        0|    1906|       19|     US| N662AW|   500|   SEA| PHX|     151|    1107|  15|     0|\n",
    "#     |2014|   11| 19|    1319|       -6|    1821|      -14|     DL| N309US|  2164|   PDX| MSP|     169|    1426|  13|    19|\n",
    "#     |2014|    5| 21|     515|        0|     757|        0|     US| N172US|   593|   SEA| PHX|     143|    1107|   5|    15|\n",
    "#     +----+-----+---+--------+---------+--------+---------+-------+-------+------+------+----+--------+--------+----+------+\n",
    "#     only showing top 20 rows\n"
   ]
  },
  {
   "cell_type": "code",
   "execution_count": null,
   "metadata": {},
   "outputs": [],
   "source": [
    "# # Select the first set of columns\n",
    "# selected1 = flights.select(\"tailnum\", \"origin\", \"dest\")\n",
    "\n",
    "# # Select the second set of columns\n",
    "# temp = flights.select(flights.origin, flights.dest, flights.carrier)\n",
    "\n",
    "# # Define first filter\n",
    "# filterA = flights.origin == \"SEA\"\n",
    "\n",
    "# # Define second filter\n",
    "# filterB = flights.dest == \"PDX\"\n",
    "\n",
    "# # Filter the data, first by filterA then by filterB\n",
    "# selected2 = temp.filter(filterA).filter(filterB)\n"
   ]
  },
  {
   "cell_type": "code",
   "execution_count": null,
   "metadata": {},
   "outputs": [],
   "source": [
    "# # Define avg_speed\n",
    "# avg_speed = (flights.distance/(flights.air_time/60)).alias(\"avg_speed\")\n",
    "\n",
    "# # Select the correct columns\n",
    "# speed1 = flights.select(\"origin\", \"dest\", \"tailnum\", avg_speed)\n",
    "\n",
    "# # Create the same table using a SQL expression\n",
    "# speed2 = flights.selectExpr(\"origin\", \"dest\", \"tailnum\", \"distance/(air_time/60) as avg_speed\")\n"
   ]
  },
  {
   "cell_type": "code",
   "execution_count": null,
   "metadata": {},
   "outputs": [],
   "source": [
    "# # Find the shortest flight from PDX in terms of distance\n",
    "# flights.filter(flights.origin == \"PDX\").groupBy().min(\"distance\").show()\n",
    "\n",
    "# # Find the longest flight from SEA in terms of air time\n",
    "# flights.filter(flights.origin == \"SEA\").groupBy().max(\"air_time\").show()\n",
    "\n",
    "\n",
    "# <script.py> output:\n",
    "#     +-------------+\n",
    "#     |min(distance)|\n",
    "#     +-------------+\n",
    "#     |          106|\n",
    "#     +-------------+\n",
    "    \n",
    "#     +-------------+\n",
    "#     |max(air_time)|\n",
    "#     +-------------+\n",
    "#     |          409|\n",
    "#     +-------------+\n"
   ]
  },
  {
   "cell_type": "code",
   "execution_count": null,
   "metadata": {},
   "outputs": [],
   "source": [
    "# # Average duration of Delta flights\n",
    "# flights.filter(flights.carrier == \"DL\").filter(flights.origin == \"SEA\").groupBy().avg(\"air_time\").show()\n",
    "\n",
    "# # Total hours in the air\n",
    "# flights.withColumn(\"duration_hrs\", flights.air_time/60).groupBy().sum(\"duration_hrs\").show()\n",
    "\n",
    "# <script.py> output:\n",
    "#     +------------------+\n",
    "#     |     avg(air_time)|\n",
    "#     +------------------+\n",
    "#     |188.20689655172413|\n",
    "#     +------------------+\n",
    "    \n",
    "#     +------------------+\n",
    "#     | sum(duration_hrs)|\n",
    "#     +------------------+\n",
    "#     |25289.600000000126|\n",
    "#     +------------------+\n"
   ]
  },
  {
   "cell_type": "code",
   "execution_count": null,
   "metadata": {},
   "outputs": [],
   "source": [
    "# # Group by tailnum\n",
    "# by_plane = flights.groupBy(\"tailnum\")\n",
    "\n",
    "# # Number of flights each plane made\n",
    "# by_plane.count().show()\n",
    "\n",
    "# # Group by origin\n",
    "# by_origin = flights.groupBy(\"origin\")\n",
    "\n",
    "# # Average duration of flights from PDX and SEA\n",
    "# by_origin.avg(\"air_time\").show()\n",
    "\n",
    "# <script.py> output:\n",
    "#     +-------+-----+\n",
    "#     |tailnum|count|\n",
    "#     +-------+-----+\n",
    "#     | N442AS|   38|\n",
    "#     | N102UW|    2|\n",
    "#     | N36472|    4|\n",
    "#     | N38451|    4|\n",
    "#     | N73283|    4|\n",
    "#     | N513UA|    2|\n",
    "#     | N954WN|    5|\n",
    "#     | N388DA|    3|\n",
    "#     | N567AA|    1|\n",
    "#     | N516UA|    2|\n",
    "#     | N927DN|    1|\n",
    "#     | N8322X|    1|\n",
    "#     | N466SW|    1|\n",
    "#     |  N6700|    1|\n",
    "#     | N607AS|   45|\n",
    "#     | N622SW|    4|\n",
    "#     | N584AS|   31|\n",
    "#     | N914WN|    4|\n",
    "#     | N654AW|    2|\n",
    "#     | N336NW|    1|\n",
    "#     +-------+-----+\n",
    "#     only showing top 20 rows\n",
    "    \n",
    "#     +------+------------------+\n",
    "#     |origin|     avg(air_time)|\n",
    "#     +------+------------------+\n",
    "#     |   SEA| 160.4361496051259|\n",
    "#     |   PDX|137.11543248288737|\n",
    "#     +------+------------------+\n"
   ]
  },
  {
   "cell_type": "code",
   "execution_count": 1,
   "metadata": {},
   "outputs": [],
   "source": [
    "# # Import pyspark.sql.functions as F\n",
    "# import pyspark.sql.functions as F\n",
    "\n",
    "# # Group by month and dest\n",
    "# by_month_dest = flights.groupBy(\"month\", \"dest\")\n",
    "\n",
    "# # Average departure delay by month and destination\n",
    "# by_month_dest.avg(\"dep_delay\").show()\n",
    "\n",
    "# # Standard deviation of departure delay\n",
    "# by_month_dest.agg(F.stddev(\"dep_delay\")).show()\n",
    "\n",
    "\n",
    "# <script.py> output:\n",
    "#     +-----+----+--------------------+\n",
    "#     |month|dest|      avg(dep_delay)|\n",
    "#     +-----+----+--------------------+\n",
    "#     |   11| TUS| -2.3333333333333335|\n",
    "#     |   11| ANC|   7.529411764705882|\n",
    "#     |    1| BUR|               -1.45|\n",
    "#     |    1| PDX| -5.6923076923076925|\n",
    "#     |    6| SBA|                -2.5|\n",
    "#     |    5| LAX|-0.15789473684210525|\n",
    "#     |   10| DTW|                 2.6|\n",
    "#     |    6| SIT|                -1.0|\n",
    "#     |   10| DFW|  18.176470588235293|\n",
    "#     |    3| FAI|                -2.2|\n",
    "#     |   10| SEA|                -0.8|\n",
    "#     |    2| TUS| -0.6666666666666666|\n",
    "#     |   12| OGG|  25.181818181818183|\n",
    "#     |    9| DFW|   4.066666666666666|\n",
    "#     |    5| EWR|               14.25|\n",
    "#     |    3| RDM|                -6.2|\n",
    "#     |    8| DCA|                 2.6|\n",
    "#     |    7| ATL|   4.675675675675675|\n",
    "#     |    4| JFK| 0.07142857142857142|\n",
    "#     |   10| SNA| -1.1333333333333333|\n",
    "#     +-----+----+--------------------+\n",
    "#     only showing top 20 rows\n",
    "    \n",
    "#     +-----+----+----------------------+\n",
    "#     |month|dest|stddev_samp(dep_delay)|\n",
    "#     +-----+----+----------------------+\n",
    "#     |   11| TUS|    3.0550504633038935|\n",
    "#     |   11| ANC|    18.604716401245316|\n",
    "#     |    1| BUR|     15.22627576540667|\n",
    "#     |    1| PDX|     5.677214918493858|\n",
    "#     |    6| SBA|     2.380476142847617|\n",
    "#     |    5| LAX|     13.36268698685904|\n",
    "#     |   10| DTW|     5.639148871948674|\n",
    "#     |    6| SIT|                   NaN|\n",
    "#     |   10| DFW|     45.53019017606675|\n",
    "#     |    3| FAI|    3.1144823004794873|\n",
    "#     |   10| SEA|     18.70523227029577|\n",
    "#     |    2| TUS|    14.468356276140469|\n",
    "#     |   12| OGG|     82.64480404939947|\n",
    "#     |    9| DFW|    21.728629347782924|\n",
    "#     |    5| EWR|     42.41595968929191|\n",
    "#     |    3| RDM|      2.16794833886788|\n",
    "#     |    8| DCA|     9.946523680831074|\n",
    "#     |    7| ATL|    22.767001039582183|\n",
    "#     |    4| JFK|     8.156774303176903|\n",
    "#     |   10| SNA|    13.726234873756304|\n",
    "#     +-----+----+----------------------+\n",
    "#     only showing top 20 rows\n"
   ]
  },
  {
   "cell_type": "markdown",
   "metadata": {},
   "source": [
    "## Joining\n",
    "\n",
    "* A `join` will combine two different tables along a column that they share. \n",
    "\n",
    "\n",
    "\n"
   ]
  },
  {
   "cell_type": "code",
   "execution_count": null,
   "metadata": {},
   "outputs": [],
   "source": [
    "# # Examine the data\n",
    "# airports.show()\n",
    "\n",
    "# # Rename the faa column\n",
    "# airports = airports.withColumnRenamed(\"faa\", \"dest\")\n",
    "\n",
    "# # Join the DataFrames\n",
    "# flights_with_airports = flights.join(airports, on=\"dest\", how=\"leftouter\")\n",
    "\n",
    "# # Examine the new DataFrame\n",
    "# flights_with_airports.show()\n",
    "\n",
    "# <script.py> output:\n",
    "#     +---+--------------------+----------------+-----------------+----+---+---+\n",
    "#     |faa|                name|             lat|              lon| alt| tz|dst|\n",
    "#     +---+--------------------+----------------+-----------------+----+---+---+\n",
    "#     |04G|   Lansdowne Airport|      41.1304722|      -80.6195833|1044| -5|  A|\n",
    "#     |06A|Moton Field Munic...|      32.4605722|      -85.6800278| 264| -5|  A|\n",
    "#     |06C| Schaumburg Regional|      41.9893408|      -88.1012428| 801| -6|  A|\n",
    "#     |06N|     Randall Airport|       41.431912|      -74.3915611| 523| -5|  A|\n",
    "#     |09J|Jekyll Island Air...|      31.0744722|      -81.4277778|  11| -4|  A|\n",
    "#     |0A9|Elizabethton Muni...|      36.3712222|      -82.1734167|1593| -4|  A|\n",
    "#     |0G6|Williams County A...|      41.4673056|      -84.5067778| 730| -5|  A|\n",
    "#     |0G7|Finger Lakes Regi...|      42.8835647|      -76.7812318| 492| -5|  A|\n",
    "#     |0P2|Shoestring Aviati...|      39.7948244|      -76.6471914|1000| -5|  U|\n",
    "#     |0S9|Jefferson County ...|      48.0538086|     -122.8106436| 108| -8|  A|\n",
    "#     |0W3|Harford County Ai...|      39.5668378|      -76.2024028| 409| -5|  A|\n",
    "#     |10C|  Galt Field Airport|      42.4028889|      -88.3751111| 875| -6|  U|\n",
    "#     |17G|Port Bucyrus-Craw...|      40.7815556|      -82.9748056|1003| -5|  A|\n",
    "#     |19A|Jackson County Ai...|      34.1758638|      -83.5615972| 951| -4|  U|\n",
    "#     |1A3|Martin Campbell F...|      35.0158056|      -84.3468333|1789| -4|  A|\n",
    "#     |1B9| Mansfield Municipal|      42.0001331|      -71.1967714| 122| -5|  A|\n",
    "#     |1C9|Frazier Lake Airpark|54.0133333333333|-124.768333333333| 152| -8|  A|\n",
    "#     |1CS|Clow Internationa...|      41.6959744|      -88.1292306| 670| -6|  U|\n",
    "#     |1G3|  Kent State Airport|      41.1513889|      -81.4151111|1134| -4|  A|\n",
    "#     |1OH|     Fortman Airport|      40.5553253|      -84.3866186| 885| -5|  U|\n",
    "#     +---+--------------------+----------------+-----------------+----+---+---+\n",
    "#     only showing top 20 rows\n",
    "    \n",
    "#     +----+----+-----+---+--------+---------+--------+---------+-------+-------+------+------+--------+--------+----+------+--------------------+---------+-----------+----+---+---+\n",
    "#     |dest|year|month|day|dep_time|dep_delay|arr_time|arr_delay|carrier|tailnum|flight|origin|air_time|distance|hour|minute|                name|      lat|        lon| alt| tz|dst|\n",
    "#     +----+----+-----+---+--------+---------+--------+---------+-------+-------+------+------+--------+--------+----+------+--------------------+---------+-----------+----+---+---+\n",
    "#     | LAX|2014|   12|  8|     658|       -7|     935|       -5|     VX| N846VA|  1780|   SEA|     132|     954|   6|    58|    Los Angeles Intl|33.942536|-118.408075| 126| -8|  A|\n",
    "#     | HNL|2014|    1| 22|    1040|        5|    1505|        5|     AS| N559AS|   851|   SEA|     360|    2677|  10|    40|       Honolulu Intl|21.318681|-157.922428|  13|-10|  N|\n",
    "#     | SFO|2014|    3|  9|    1443|       -2|    1652|        2|     VX| N847VA|   755|   SEA|     111|     679|  14|    43|  San Francisco Intl|37.618972|-122.374889|  13| -8|  A|\n",
    "#     | SJC|2014|    4|  9|    1705|       45|    1839|       34|     WN| N360SW|   344|   PDX|      83|     569|  17|     5|Norman Y Mineta S...|  37.3626|-121.929022|  62| -8|  A|\n",
    "#     | BUR|2014|    3|  9|     754|       -1|    1015|        1|     AS| N612AS|   522|   SEA|     127|     937|   7|    54|            Bob Hope|34.200667|-118.358667| 778| -8|  A|\n",
    "#     | DEN|2014|    1| 15|    1037|        7|    1352|        2|     WN| N646SW|    48|   PDX|     121|     991|  10|    37|         Denver Intl|39.861656|-104.673178|5431| -7|  A|\n",
    "#     | OAK|2014|    7|  2|     847|       42|    1041|       51|     WN| N422WN|  1520|   PDX|      90|     543|   8|    47|Metropolitan Oakl...|37.721278|-122.220722|   9| -8|  A|\n",
    "#     | SFO|2014|    5| 12|    1655|       -5|    1842|      -18|     VX| N361VA|   755|   SEA|      98|     679|  16|    55|  San Francisco Intl|37.618972|-122.374889|  13| -8|  A|\n",
    "#     | SAN|2014|    4| 19|    1236|       -4|    1508|       -7|     AS| N309AS|   490|   SEA|     135|    1050|  12|    36|      San Diego Intl|32.733556|-117.189667|  17| -8|  A|\n",
    "#     | ORD|2014|   11| 19|    1812|       -3|    2352|       -4|     AS| N564AS|    26|   SEA|     198|    1721|  18|    12|  Chicago Ohare Intl|41.978603| -87.904842| 668| -6|  A|\n",
    "#     | LAX|2014|   11|  8|    1653|       -2|    1924|       -1|     AS| N323AS|   448|   SEA|     130|     954|  16|    53|    Los Angeles Intl|33.942536|-118.408075| 126| -8|  A|\n",
    "#     | PHX|2014|    8|  3|    1120|        0|    1415|        2|     AS| N305AS|   656|   SEA|     154|    1107|  11|    20|Phoenix Sky Harbo...|33.434278|-112.011583|1135| -7|  N|\n",
    "#     | LAS|2014|   10| 30|     811|       21|    1038|       29|     AS| N433AS|   608|   SEA|     127|     867|   8|    11|      Mc Carran Intl|36.080056| -115.15225|2141| -8|  A|\n",
    "#     | ANC|2014|   11| 12|    2346|       -4|     217|      -28|     AS| N765AS|   121|   SEA|     183|    1448|  23|    46|Ted Stevens Ancho...|61.174361|-149.996361| 152| -9|  A|\n",
    "#     | SFO|2014|   10| 31|    1314|       89|    1544|      111|     AS| N713AS|   306|   SEA|     129|     679|  13|    14|  San Francisco Intl|37.618972|-122.374889|  13| -8|  A|\n",
    "#     | SFO|2014|    1| 29|    2009|        3|    2159|        9|     UA| N27205|  1458|   PDX|      90|     550|  20|     9|  San Francisco Intl|37.618972|-122.374889|  13| -8|  A|\n",
    "#     | SMF|2014|   12| 17|    2015|       50|    2150|       41|     AS| N626AS|   368|   SEA|      76|     605|  20|    15|     Sacramento Intl|38.695417|-121.590778|  27| -8|  A|\n",
    "#     | MDW|2014|    8| 11|    1017|       -3|    1613|       -7|     WN| N8634A|   827|   SEA|     216|    1733|  10|    17| Chicago Midway Intl|41.785972| -87.752417| 620| -6|  A|\n",
    "#     | BOS|2014|    1| 13|    2156|       -9|     607|      -15|     AS| N597AS|    24|   SEA|     290|    2496|  21|    56|General Edward La...|42.364347| -71.005181|  19| -5|  A|\n",
    "#     | BUR|2014|    6|  5|    1733|      -12|    1945|      -10|     OO| N215AG|  3488|   PDX|     111|     817|  17|    33|            Bob Hope|34.200667|-118.358667| 778| -8|  A|\n",
    "#     +----+----+-----+---+--------+---------+--------+---------+-------+-------+------+------+--------+--------+----+------+--------------------+---------+-----------+----+---+---+\n",
    "#     only showing top 20 rows\n",
    "\n",
    "    "
   ]
  },
  {
   "cell_type": "markdown",
   "metadata": {},
   "source": [
    "# 3- Getting started with machine learning pipelines\n"
   ]
  },
  {
   "cell_type": "markdown",
   "metadata": {},
   "source": [
    "* At the core of the `pyspark.ml` module are the `Transformer` and `Estimator` classes\n",
    "\n",
    "* `.transform()` method that takes a DataFrame and returns a new DataFrame; usually the original one with a new column appended\n",
    "\n",
    "* `Estimator` classes all implement a .fit() method. These methods also take a DataFrame, but instead of returning another DataFrame they return a model object"
   ]
  },
  {
   "cell_type": "code",
   "execution_count": null,
   "metadata": {},
   "outputs": [],
   "source": [
    "# # Rename year column\n",
    "# planes = planes.withColumnRenamed(\"year\", \"plane_year\")\n",
    "\n",
    "# # Join the DataFrames\n",
    "# model_data = flights.join(planes, on=\"tailnum\", how=\"leftouter\")\n"
   ]
  },
  {
   "cell_type": "code",
   "execution_count": null,
   "metadata": {},
   "outputs": [],
   "source": [
    "# # Cast the columns to integers\n",
    "# model_data = model_data.withColumn(\"arr_delay\", model_data.arr_delay.cast(\"integer\"))\n",
    "# model_data = model_data.withColumn(\"air_time\", model_data.air_time.cast(\"integer\"))\n",
    "# model_data = model_data.withColumn(\"month\", model_data.month.cast(\"integer\"))\n",
    "# model_data = model_data.withColumn(\"plane_year\", model_data.plane_year.cast(\"integer\"))\n"
   ]
  },
  {
   "cell_type": "code",
   "execution_count": null,
   "metadata": {},
   "outputs": [],
   "source": [
    "# # Create the column plane_age\n",
    "# model_data = model_data.withColumn(\"plane_age\", model_data.year - model_data.plane_year)\n"
   ]
  },
  {
   "cell_type": "code",
   "execution_count": null,
   "metadata": {},
   "outputs": [],
   "source": [
    "# # Create is_late\n",
    "# model_data = model_data.withColumn(\"is_late\", model_data.arr_delay > 0)\n",
    "\n",
    "# # Convert to an integer\n",
    "# model_data = model_data.withColumn(\"label\", model_data.is_late.cast(\"integer\"))\n",
    "\n",
    "# # Remove missing values\n",
    "# model_data = model_data.filter(\"arr_delay is not NULL and dep_delay is not NULL and air_time is not NULL and plane_year is not NULL\")\n"
   ]
  },
  {
   "cell_type": "code",
   "execution_count": null,
   "metadata": {},
   "outputs": [],
   "source": [
    "# # Create a StringIndexer\n",
    "# carr_indexer = StringIndexer(inputCol=\"carrier\", outputCol=\"carrier_index\" )\n",
    "\n",
    "# # Create a OneHotEncoder\n",
    "# carr_encoder = OneHotEncoder(inputCol=\"carrier_index\", outputCol=\"carrier_fact\")\n"
   ]
  },
  {
   "cell_type": "code",
   "execution_count": null,
   "metadata": {},
   "outputs": [],
   "source": [
    "# # Create a StringIndexer\n",
    "# dest_indexer = StringIndexer(inputCol=\"dest\" , outputCol=\"dest_index\")\n",
    "\n",
    "# # Create a OneHotEncoder\n",
    "# dest_encoder = OneHotEncoder(inputCol=\"dest_index\", outputCol=\"dest_fact\")\n"
   ]
  },
  {
   "cell_type": "code",
   "execution_count": 2,
   "metadata": {},
   "outputs": [],
   "source": [
    "# # Make a VectorAssembler\n",
    "# vec_assembler = VectorAssembler(inputCols=[\"month\", \"air_time\", \"carrier_fact\", \"dest_fact\", \"plane_age\"], outputCol='features')\n",
    "\n"
   ]
  },
  {
   "cell_type": "code",
   "execution_count": null,
   "metadata": {},
   "outputs": [],
   "source": [
    "# # Import Pipeline\n",
    "# from pyspark.ml import Pipeline\n",
    "\n",
    "# # Make the pipeline\n",
    "# flights_pipe = Pipeline(stages=[dest_indexer, dest_encoder, carr_indexer, carr_encoder, vec_assembler])\n"
   ]
  },
  {
   "cell_type": "code",
   "execution_count": null,
   "metadata": {},
   "outputs": [],
   "source": [
    "# # Fit and transform the data\n",
    "# piped_data = flights_pipe.fit(model_data).transform(model_data)\n"
   ]
  },
  {
   "cell_type": "code",
   "execution_count": null,
   "metadata": {},
   "outputs": [],
   "source": [
    "# # Split the data into training and test sets\n",
    "# training, test = piped_data.randomSplit([.6, .4])"
   ]
  },
  {
   "cell_type": "markdown",
   "metadata": {},
   "source": [
    "# 4- Model tuning and selection"
   ]
  },
  {
   "cell_type": "code",
   "execution_count": null,
   "metadata": {},
   "outputs": [],
   "source": [
    "# # Import LogisticRegression\n",
    "# from pyspark.ml.classification import LogisticRegression\n",
    "\n",
    "# # Create a LogisticRegression Estimator\n",
    "# lr = LogisticRegression()"
   ]
  },
  {
   "cell_type": "code",
   "execution_count": null,
   "metadata": {},
   "outputs": [],
   "source": [
    "# # Import the evaluation submodule\n",
    "# import pyspark.ml.evaluation as evals\n",
    "\n",
    "# # Create a BinaryClassificationEvaluator\n",
    "# evaluator = evals.BinaryClassificationEvaluator(metricName=\"areaUnderROC\")"
   ]
  },
  {
   "cell_type": "code",
   "execution_count": null,
   "metadata": {},
   "outputs": [],
   "source": [
    "# # Import the tuning submodule\n",
    "# import pyspark.ml.tuning as tune\n",
    "\n",
    "# # Create the parameter grid\n",
    "# grid = tune.ParamGridBuilder()\n",
    "\n",
    "# # Add the hyperparameter\n",
    "# grid = grid.addGrid(lr.regParam, np.arange(0, .1, .01))\n",
    "# grid = grid.addGrid(lr.elasticNetParam, [0, 1])\n",
    "\n",
    "# # Build the grid\n",
    "# grid = grid.build()\n"
   ]
  },
  {
   "cell_type": "code",
   "execution_count": null,
   "metadata": {},
   "outputs": [],
   "source": [
    "# # Create the CrossValidator\n",
    "# cv = tune.CrossValidator(estimator=lr,\n",
    "#                estimatorParamMaps=grid,\n",
    "#                evaluator=evaluator\n",
    "#                )\n"
   ]
  },
  {
   "cell_type": "code",
   "execution_count": null,
   "metadata": {},
   "outputs": [],
   "source": [
    "# # Call lr.fit()\n",
    "# best_lr = lr.fit(training)\n",
    "\n",
    "# # Print best_lr\n",
    "# print(best_lr)\n"
   ]
  },
  {
   "cell_type": "code",
   "execution_count": null,
   "metadata": {},
   "outputs": [],
   "source": [
    "# # Use the model to predict the test set\n",
    "# test_results = best_lr.transform(test)\n",
    "\n",
    "# # Evaluate the predictions\n",
    "# print(evaluator.evaluate(test_results))\n",
    "#     0.7125950520012994\n"
   ]
  },
  {
   "cell_type": "code",
   "execution_count": null,
   "metadata": {},
   "outputs": [],
   "source": []
  }
 ],
 "metadata": {
  "kernelspec": {
   "display_name": "newEnv",
   "language": "python",
   "name": "newenv"
  },
  "language_info": {
   "codemirror_mode": {
    "name": "ipython",
    "version": 3
   },
   "file_extension": ".py",
   "mimetype": "text/x-python",
   "name": "python",
   "nbconvert_exporter": "python",
   "pygments_lexer": "ipython3",
   "version": "3.7.1"
  }
 },
 "nbformat": 4,
 "nbformat_minor": 2
}
